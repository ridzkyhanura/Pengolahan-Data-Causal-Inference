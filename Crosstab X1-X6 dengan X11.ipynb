{
 "cells": [
  {
   "cell_type": "code",
   "execution_count": 1,
   "metadata": {},
   "outputs": [],
   "source": [
    "import pandas as pd"
   ]
  },
  {
   "cell_type": "code",
   "execution_count": 15,
   "metadata": {},
   "outputs": [],
   "source": [
    "# Baca data dari file CSV\n",
    "data = pd.read_csv('data olah final bgt v11.csv', sep=\";\")"
   ]
  },
  {
   "cell_type": "code",
   "execution_count": 16,
   "metadata": {},
   "outputs": [],
   "source": [
    "from scipy.stats import chi2_contingency"
   ]
  },
  {
   "cell_type": "code",
   "execution_count": 11,
   "metadata": {},
   "outputs": [],
   "source": [
    "variabel=['X1', 'X2', 'X3', 'X4', 'X5', 'X6']\n",
    "crosstab = []\n",
    "chisquared=[]\n",
    "pvalue=[]\n",
    "for i in variabel:\n",
    "    contingency_table = pd.crosstab(data[i], data['X11'])\n",
    "    contingency_table.to_excel(\"crosstab {} dengan X11.xlsx\".format(i), index=True)\n",
    "    # Lakukan uji chi-squared\n",
    "    chi2, p, _, _ = chi2_contingency(contingency_table)\n",
    "    crosstab.append(\"{} dengan X11\".format(i))\n",
    "    chisquared.append(chi2)\n",
    "    pvalue.append(p)\n",
    "data = {'Crosstab': crosstab, 'Chi Squared Statistics': chisquared, 'pvalue': pvalue}\n",
    "df = pd.DataFrame(data)\n",
    "df.to_excel(\"hasil uji chi2.xlsx\")"
   ]
  }
 ],
 "metadata": {
  "kernelspec": {
   "display_name": ".venv",
   "language": "python",
   "name": "python3"
  },
  "language_info": {
   "codemirror_mode": {
    "name": "ipython",
    "version": 3
   },
   "file_extension": ".py",
   "mimetype": "text/x-python",
   "name": "python",
   "nbconvert_exporter": "python",
   "pygments_lexer": "ipython3",
   "version": "3.10.11"
  }
 },
 "nbformat": 4,
 "nbformat_minor": 2
}
