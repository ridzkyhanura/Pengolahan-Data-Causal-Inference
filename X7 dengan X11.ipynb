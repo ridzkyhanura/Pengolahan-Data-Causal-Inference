{
 "cells": [
  {
   "cell_type": "code",
   "execution_count": 1,
   "metadata": {},
   "outputs": [],
   "source": [
    "import pandas as pd"
   ]
  },
  {
   "cell_type": "code",
   "execution_count": 17,
   "metadata": {},
   "outputs": [],
   "source": [
    "# Baca data dari file CSV\n",
    "data = pd.read_csv('data olah final bgt v11.csv', sep=\";\")"
   ]
  },
  {
   "cell_type": "code",
   "execution_count": 18,
   "metadata": {},
   "outputs": [],
   "source": [
    "from sklearn.preprocessing import MinMaxScaler\n",
    "scaler = MinMaxScaler()"
   ]
  },
  {
   "cell_type": "code",
   "execution_count": 19,
   "metadata": {},
   "outputs": [],
   "source": [
    "grouped = data.groupby('X1')\n",
    "cleaned_df = pd.DataFrame()\n",
    "for material, group in grouped:\n",
    "    group['X7'] = scaler.fit_transform(group[['X7']])\n",
    "    databaru = group\n",
    "    cleaned_df = pd.concat([cleaned_df, databaru])\n",
    "data = cleaned_df"
   ]
  },
  {
   "cell_type": "code",
   "execution_count": 20,
   "metadata": {},
   "outputs": [],
   "source": [
    "# 2. Membagi data ke dalam dua kelompok berdasarkan nilai kolom X11\n",
    "group_false = data[data['X11'] == False]['X7']\n",
    "group_true = data[data['X11'] == True]['X7']"
   ]
  },
  {
   "cell_type": "code",
   "execution_count": 29,
   "metadata": {},
   "outputs": [
    {
     "name": "stdout",
     "output_type": "stream",
     "text": [
      "Hasil uji statistik:\n",
      "Stat: 318069.0\n",
      "P-value: 0.3493690087943917\n"
     ]
    }
   ],
   "source": [
    "import scipy.stats as stats\n",
    "#Lakukan uji Mann-Whitney U\n",
    "stat, pvalue = stats.mannwhitneyu(group_false, group_true)\n",
    "#Tampilkan hasil\n",
    "print(\"Hasil uji statistik:\")\n",
    "print(\"Stat:\", stat)\n",
    "print(\"P-value:\", pvalue)"
   ]
  }
 ],
 "metadata": {
  "kernelspec": {
   "display_name": ".venv",
   "language": "python",
   "name": "python3"
  },
  "language_info": {
   "codemirror_mode": {
    "name": "ipython",
    "version": 3
   },
   "file_extension": ".py",
   "mimetype": "text/x-python",
   "name": "python",
   "nbconvert_exporter": "python",
   "pygments_lexer": "ipython3",
   "version": "3.10.11"
  }
 },
 "nbformat": 4,
 "nbformat_minor": 2
}
