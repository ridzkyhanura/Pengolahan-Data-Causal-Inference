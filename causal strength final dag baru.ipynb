{
 "cells": [
  {
   "cell_type": "code",
   "execution_count": 1,
   "metadata": {},
   "outputs": [
    {
     "name": "stderr",
     "output_type": "stream",
     "text": [
      "d:\\causal inference\\.venv\\lib\\site-packages\\tqdm\\auto.py:21: TqdmWarning: IProgress not found. Please update jupyter and ipywidgets. See https://ipywidgets.readthedocs.io/en/stable/user_install.html\n",
      "  from .autonotebook import tqdm as notebook_tqdm\n"
     ]
    }
   ],
   "source": [
    "import numpy as np\n",
    "import pandas as pd\n",
    "from dowhy import CausalModel\n",
    "from sklearn.preprocessing import MinMaxScaler"
   ]
  },
  {
   "cell_type": "code",
   "execution_count": 2,
   "metadata": {},
   "outputs": [],
   "source": [
    "data = pd.read_csv('data olah final bgt v11-c.csv', sep=\";\")"
   ]
  },
  {
   "cell_type": "code",
   "execution_count": 3,
   "metadata": {},
   "outputs": [],
   "source": [
    "data = data[data['Y'] > 0]\n",
    "scaler = MinMaxScaler()"
   ]
  },
  {
   "cell_type": "code",
   "execution_count": 4,
   "metadata": {},
   "outputs": [],
   "source": [
    "grouped = data.groupby('X1')\n",
    "cleaned_df = pd.DataFrame()\n",
    "for material, group in grouped:\n",
    "    group['X7'] = scaler.fit_transform(group[['X7']])\n",
    "    databaru = group\n",
    "    cleaned_df = pd.concat([cleaned_df, databaru])\n",
    "data = cleaned_df"
   ]
  },
  {
   "cell_type": "code",
   "execution_count": 5,
   "metadata": {},
   "outputs": [],
   "source": [
    "data['X10'] = scaler.fit_transform(data[['X10']])\n",
    "data['X11'] = scaler.fit_transform(data[['X11']])\n",
    "data['X12'] = scaler.fit_transform(data[['X12']])\n",
    "data['Y'] = scaler.fit_transform(data[['Y']])"
   ]
  },
  {
   "cell_type": "code",
   "execution_count": 6,
   "metadata": {},
   "outputs": [],
   "source": [
    "data = data.drop(columns=['X2', 'X13', 'Tanggal PR', 'Tanggal PO', 'Tgl Delivery', 'Tanggal GR'])"
   ]
  },
  {
   "cell_type": "code",
   "execution_count": 7,
   "metadata": {},
   "outputs": [
    {
     "data": {
      "text/html": [
       "<div>\n",
       "<style scoped>\n",
       "    .dataframe tbody tr th:only-of-type {\n",
       "        vertical-align: middle;\n",
       "    }\n",
       "\n",
       "    .dataframe tbody tr th {\n",
       "        vertical-align: top;\n",
       "    }\n",
       "\n",
       "    .dataframe thead th {\n",
       "        text-align: right;\n",
       "    }\n",
       "</style>\n",
       "<table border=\"1\" class=\"dataframe\">\n",
       "  <thead>\n",
       "    <tr style=\"text-align: right;\">\n",
       "      <th></th>\n",
       "      <th>X1</th>\n",
       "      <th>X3</th>\n",
       "      <th>X4</th>\n",
       "      <th>X5</th>\n",
       "      <th>X6</th>\n",
       "      <th>X7</th>\n",
       "      <th>X8</th>\n",
       "      <th>X9</th>\n",
       "      <th>X10</th>\n",
       "      <th>X11</th>\n",
       "      <th>X12</th>\n",
       "      <th>Y</th>\n",
       "    </tr>\n",
       "  </thead>\n",
       "  <tbody>\n",
       "    <tr>\n",
       "      <th>1482</th>\n",
       "      <td>0B009114071</td>\n",
       "      <td>YSFG</td>\n",
       "      <td>B1B2</td>\n",
       "      <td>Dua</td>\n",
       "      <td>Agustus</td>\n",
       "      <td>1.000000</td>\n",
       "      <td>Mega Andalan Plastik Industri</td>\n",
       "      <td>afiliasi</td>\n",
       "      <td>0.080000</td>\n",
       "      <td>0.000000</td>\n",
       "      <td>0.555556</td>\n",
       "      <td>0.766667</td>\n",
       "    </tr>\n",
       "    <tr>\n",
       "      <th>1483</th>\n",
       "      <td>0B009114071</td>\n",
       "      <td>YSFG</td>\n",
       "      <td>B1B2</td>\n",
       "      <td>Dua</td>\n",
       "      <td>April</td>\n",
       "      <td>0.666667</td>\n",
       "      <td>Mega Andalan Plastik Industri</td>\n",
       "      <td>afiliasi</td>\n",
       "      <td>0.080000</td>\n",
       "      <td>0.333333</td>\n",
       "      <td>0.777778</td>\n",
       "      <td>0.333333</td>\n",
       "    </tr>\n",
       "    <tr>\n",
       "      <th>1485</th>\n",
       "      <td>0B009114071</td>\n",
       "      <td>YSFG</td>\n",
       "      <td>B1B2</td>\n",
       "      <td>Dua</td>\n",
       "      <td>Juni</td>\n",
       "      <td>0.333333</td>\n",
       "      <td>Mega Andalan Plastik Industri</td>\n",
       "      <td>afiliasi</td>\n",
       "      <td>0.080000</td>\n",
       "      <td>0.666667</td>\n",
       "      <td>0.222222</td>\n",
       "      <td>0.000000</td>\n",
       "    </tr>\n",
       "    <tr>\n",
       "      <th>1486</th>\n",
       "      <td>0B009114071</td>\n",
       "      <td>YSFG</td>\n",
       "      <td>B1B2</td>\n",
       "      <td>Dua</td>\n",
       "      <td>Juni</td>\n",
       "      <td>0.666667</td>\n",
       "      <td>Mega Andalan Plastik Industri</td>\n",
       "      <td>afiliasi</td>\n",
       "      <td>0.080000</td>\n",
       "      <td>0.000000</td>\n",
       "      <td>0.333333</td>\n",
       "      <td>0.533333</td>\n",
       "    </tr>\n",
       "    <tr>\n",
       "      <th>1487</th>\n",
       "      <td>0B009114071</td>\n",
       "      <td>YSFG</td>\n",
       "      <td>B1B2</td>\n",
       "      <td>Dua</td>\n",
       "      <td>Juli</td>\n",
       "      <td>0.666667</td>\n",
       "      <td>Mega Andalan Plastik Industri</td>\n",
       "      <td>afiliasi</td>\n",
       "      <td>0.080000</td>\n",
       "      <td>0.666667</td>\n",
       "      <td>0.555556</td>\n",
       "      <td>0.300000</td>\n",
       "    </tr>\n",
       "    <tr>\n",
       "      <th>...</th>\n",
       "      <td>...</td>\n",
       "      <td>...</td>\n",
       "      <td>...</td>\n",
       "      <td>...</td>\n",
       "      <td>...</td>\n",
       "      <td>...</td>\n",
       "      <td>...</td>\n",
       "      <td>...</td>\n",
       "      <td>...</td>\n",
       "      <td>...</td>\n",
       "      <td>...</td>\n",
       "      <td>...</td>\n",
       "    </tr>\n",
       "    <tr>\n",
       "      <th>1133</th>\n",
       "      <td>ZC0015SF03</td>\n",
       "      <td>YPCG</td>\n",
       "      <td>B1B2</td>\n",
       "      <td>Dua</td>\n",
       "      <td>November</td>\n",
       "      <td>1.000000</td>\n",
       "      <td>MEGA ANDALAN RODA DAN KASTOR.,PT</td>\n",
       "      <td>afiliasi</td>\n",
       "      <td>0.168889</td>\n",
       "      <td>1.000000</td>\n",
       "      <td>0.444444</td>\n",
       "      <td>0.366667</td>\n",
       "    </tr>\n",
       "    <tr>\n",
       "      <th>1134</th>\n",
       "      <td>ZC0015SF03</td>\n",
       "      <td>YPCG</td>\n",
       "      <td>B1B2</td>\n",
       "      <td>Dua</td>\n",
       "      <td>November</td>\n",
       "      <td>1.000000</td>\n",
       "      <td>MEGA ANDALAN RODA DAN KASTOR.,PT</td>\n",
       "      <td>afiliasi</td>\n",
       "      <td>0.168889</td>\n",
       "      <td>1.000000</td>\n",
       "      <td>0.444444</td>\n",
       "      <td>0.366667</td>\n",
       "    </tr>\n",
       "    <tr>\n",
       "      <th>1135</th>\n",
       "      <td>ZC0015SF03</td>\n",
       "      <td>YPCG</td>\n",
       "      <td>B1B2</td>\n",
       "      <td>Dua</td>\n",
       "      <td>November</td>\n",
       "      <td>0.111111</td>\n",
       "      <td>MEGA ANDALAN RODA DAN KASTOR.,PT</td>\n",
       "      <td>afiliasi</td>\n",
       "      <td>0.168889</td>\n",
       "      <td>1.000000</td>\n",
       "      <td>0.555556</td>\n",
       "      <td>0.333333</td>\n",
       "    </tr>\n",
       "    <tr>\n",
       "      <th>1136</th>\n",
       "      <td>ZC0015SF03</td>\n",
       "      <td>YPCG</td>\n",
       "      <td>B1B2</td>\n",
       "      <td>Dua</td>\n",
       "      <td>November</td>\n",
       "      <td>0.111111</td>\n",
       "      <td>MEGA ANDALAN RODA DAN KASTOR.,PT</td>\n",
       "      <td>afiliasi</td>\n",
       "      <td>0.168889</td>\n",
       "      <td>1.000000</td>\n",
       "      <td>0.666667</td>\n",
       "      <td>0.300000</td>\n",
       "    </tr>\n",
       "    <tr>\n",
       "      <th>1137</th>\n",
       "      <td>ZC0015SF03</td>\n",
       "      <td>YPCG</td>\n",
       "      <td>B1B2</td>\n",
       "      <td>Dua</td>\n",
       "      <td>November</td>\n",
       "      <td>0.111111</td>\n",
       "      <td>MEGA ANDALAN RODA DAN KASTOR.,PT</td>\n",
       "      <td>afiliasi</td>\n",
       "      <td>0.168889</td>\n",
       "      <td>1.000000</td>\n",
       "      <td>0.666667</td>\n",
       "      <td>0.300000</td>\n",
       "    </tr>\n",
       "  </tbody>\n",
       "</table>\n",
       "<p>839 rows × 12 columns</p>\n",
       "</div>"
      ],
      "text/plain": [
       "               X1    X3    X4   X5        X6        X7  \\\n",
       "1482  0B009114071  YSFG  B1B2  Dua   Agustus  1.000000   \n",
       "1483  0B009114071  YSFG  B1B2  Dua     April  0.666667   \n",
       "1485  0B009114071  YSFG  B1B2  Dua      Juni  0.333333   \n",
       "1486  0B009114071  YSFG  B1B2  Dua      Juni  0.666667   \n",
       "1487  0B009114071  YSFG  B1B2  Dua      Juli  0.666667   \n",
       "...           ...   ...   ...  ...       ...       ...   \n",
       "1133   ZC0015SF03  YPCG  B1B2  Dua  November  1.000000   \n",
       "1134   ZC0015SF03  YPCG  B1B2  Dua  November  1.000000   \n",
       "1135   ZC0015SF03  YPCG  B1B2  Dua  November  0.111111   \n",
       "1136   ZC0015SF03  YPCG  B1B2  Dua  November  0.111111   \n",
       "1137   ZC0015SF03  YPCG  B1B2  Dua  November  0.111111   \n",
       "\n",
       "                                    X8        X9       X10       X11  \\\n",
       "1482     Mega Andalan Plastik Industri  afiliasi  0.080000  0.000000   \n",
       "1483     Mega Andalan Plastik Industri  afiliasi  0.080000  0.333333   \n",
       "1485     Mega Andalan Plastik Industri  afiliasi  0.080000  0.666667   \n",
       "1486     Mega Andalan Plastik Industri  afiliasi  0.080000  0.000000   \n",
       "1487     Mega Andalan Plastik Industri  afiliasi  0.080000  0.666667   \n",
       "...                                ...       ...       ...       ...   \n",
       "1133  MEGA ANDALAN RODA DAN KASTOR.,PT  afiliasi  0.168889  1.000000   \n",
       "1134  MEGA ANDALAN RODA DAN KASTOR.,PT  afiliasi  0.168889  1.000000   \n",
       "1135  MEGA ANDALAN RODA DAN KASTOR.,PT  afiliasi  0.168889  1.000000   \n",
       "1136  MEGA ANDALAN RODA DAN KASTOR.,PT  afiliasi  0.168889  1.000000   \n",
       "1137  MEGA ANDALAN RODA DAN KASTOR.,PT  afiliasi  0.168889  1.000000   \n",
       "\n",
       "           X12         Y  \n",
       "1482  0.555556  0.766667  \n",
       "1483  0.777778  0.333333  \n",
       "1485  0.222222  0.000000  \n",
       "1486  0.333333  0.533333  \n",
       "1487  0.555556  0.300000  \n",
       "...        ...       ...  \n",
       "1133  0.444444  0.366667  \n",
       "1134  0.444444  0.366667  \n",
       "1135  0.555556  0.333333  \n",
       "1136  0.666667  0.300000  \n",
       "1137  0.666667  0.300000  \n",
       "\n",
       "[839 rows x 12 columns]"
      ]
     },
     "execution_count": 7,
     "metadata": {},
     "output_type": "execute_result"
    }
   ],
   "source": [
    "data"
   ]
  },
  {
   "cell_type": "code",
   "execution_count": 8,
   "metadata": {},
   "outputs": [],
   "source": [
    "for col in data.columns:\n",
    "    if data[col].dtypes == \"object\":\n",
    "      data[col] = data[col].astype(\"category\")"
   ]
  },
  {
   "cell_type": "code",
   "execution_count": 9,
   "metadata": {},
   "outputs": [],
   "source": [
    "import networkx as nx"
   ]
  },
  {
   "cell_type": "code",
   "execution_count": 10,
   "metadata": {},
   "outputs": [],
   "source": [
    "causal_graph = nx.DiGraph([('X1', 'X7'),\n",
    "                           ('X1', 'X11'),\n",
    "                           ('X1', 'X8'),\n",
    "                           ('X6', 'X11'),\n",
    "                           ('X6', 'Y'),\n",
    "                           ('X7', 'Y'),\n",
    "                           ('X8', 'Y'),\n",
    "                           ('X8', 'X10'),\n",
    "                           ('X10', 'Y'),\n",
    "                           ('X11', 'Y'),\n",
    "                           ('X12', 'Y')])"
   ]
  },
  {
   "cell_type": "code",
   "execution_count": 11,
   "metadata": {},
   "outputs": [],
   "source": [
    "from dowhy import gcm"
   ]
  },
  {
   "cell_type": "code",
   "execution_count": 12,
   "metadata": {},
   "outputs": [],
   "source": [
    "causal_model = gcm.ProbabilisticCausalModel(causal_graph)"
   ]
  },
  {
   "cell_type": "code",
   "execution_count": 13,
   "metadata": {},
   "outputs": [
    {
     "name": "stderr",
     "output_type": "stream",
     "text": [
      "Fitting causal mechanism of node X12: 100%|██████████| 8/8 [00:01<00:00,  4.45it/s]\n"
     ]
    }
   ],
   "source": [
    "gcm.auto.assign_causal_mechanisms(causal_model, data)\n",
    "gcm.fit(causal_model, data)"
   ]
  },
  {
   "cell_type": "code",
   "execution_count": 14,
   "metadata": {},
   "outputs": [
    {
     "name": "stderr",
     "output_type": "stream",
     "text": [
      "100%|██████████| 100/100 [09:54<00:00,  5.95s/it]\n"
     ]
    },
    {
     "name": "stdout",
     "output_type": "stream",
     "text": [
      "Excel file 'output_Y final baru.xlsx' created successfully.\n"
     ]
    }
   ],
   "source": [
    "import pandas as pd\n",
    "from tqdm import tqdm\n",
    "\n",
    "grand_list = []\n",
    "for i in tqdm(range(1,101)):\n",
    "  row = gcm.arrow_strength(causal_model, 'Y')\n",
    "  grand_list.append(row)\n",
    "\n",
    "# Convert the list of dictionaries to a pandas DataFrame\n",
    "df = pd.DataFrame(grand_list)\n",
    "\n",
    "# Write the DataFrame to an Excel file\n",
    "output_path = 'output_Y final baru.xlsx'\n",
    "df.to_excel(output_path, index=False)\n",
    "\n",
    "print(f\"Excel file '{output_path}' created successfully.\")"
   ]
  },
  {
   "cell_type": "code",
   "execution_count": 15,
   "metadata": {},
   "outputs": [
    {
     "name": "stderr",
     "output_type": "stream",
     "text": [
      "100%|██████████| 100/100 [00:26<00:00,  3.76it/s]"
     ]
    },
    {
     "name": "stdout",
     "output_type": "stream",
     "text": [
      "Excel file 'output_X11 final baru.xlsx' created successfully.\n"
     ]
    },
    {
     "name": "stderr",
     "output_type": "stream",
     "text": [
      "\n"
     ]
    }
   ],
   "source": [
    "grand_list = []\n",
    "for i in tqdm(range(1,101)):\n",
    "  row = gcm.arrow_strength(causal_model, 'X11')\n",
    "  grand_list.append(row)\n",
    "\n",
    "# Convert the list of dictionaries to a pandas DataFrame\n",
    "df = pd.DataFrame(grand_list)\n",
    "\n",
    "# Write the DataFrame to an Excel file\n",
    "output_path = 'output_X11 final baru.xlsx'\n",
    "df.to_excel(output_path, index=False)\n",
    "\n",
    "print(f\"Excel file '{output_path}' created successfully.\")"
   ]
  },
  {
   "cell_type": "code",
   "execution_count": 16,
   "metadata": {},
   "outputs": [
    {
     "name": "stderr",
     "output_type": "stream",
     "text": [
      "100%|██████████| 100/100 [00:51<00:00,  1.95it/s]"
     ]
    },
    {
     "name": "stdout",
     "output_type": "stream",
     "text": [
      "Excel file 'output_X10 final baru.xlsx' created successfully.\n"
     ]
    },
    {
     "name": "stderr",
     "output_type": "stream",
     "text": [
      "\n"
     ]
    }
   ],
   "source": [
    "grand_list = []\n",
    "for i in tqdm(range(1,101)):\n",
    "  row = gcm.arrow_strength(causal_model, 'X10')\n",
    "  grand_list.append(row)\n",
    "\n",
    "# Convert the list of dictionaries to a pandas DataFrame\n",
    "df = pd.DataFrame(grand_list)\n",
    "\n",
    "# Write the DataFrame to an Excel file\n",
    "output_path = 'output_X10 final baru.xlsx'\n",
    "df.to_excel(output_path, index=False)\n",
    "\n",
    "print(f\"Excel file '{output_path}' created successfully.\")"
   ]
  },
  {
   "cell_type": "code",
   "execution_count": 17,
   "metadata": {},
   "outputs": [
    {
     "name": "stderr",
     "output_type": "stream",
     "text": [
      "100%|██████████| 100/100 [00:29<00:00,  3.39it/s]\n"
     ]
    },
    {
     "name": "stdout",
     "output_type": "stream",
     "text": [
      "Excel file 'output_X8 final baru.xlsx' created successfully.\n"
     ]
    }
   ],
   "source": [
    "grand_list = []\n",
    "for i in tqdm(range(1,101)):\n",
    "  row = gcm.arrow_strength(causal_model, 'X8')\n",
    "  grand_list.append(row)\n",
    "\n",
    "# Convert the list of dictionaries to a pandas DataFrame\n",
    "df = pd.DataFrame(grand_list)\n",
    "\n",
    "# Write the DataFrame to an Excel file\n",
    "output_path = 'output_X8 final baru.xlsx'\n",
    "df.to_excel(output_path, index=False)\n",
    "\n",
    "print(f\"Excel file '{output_path}' created successfully.\")"
   ]
  },
  {
   "cell_type": "code",
   "execution_count": 18,
   "metadata": {},
   "outputs": [
    {
     "name": "stderr",
     "output_type": "stream",
     "text": [
      "100%|██████████| 100/100 [00:32<00:00,  3.08it/s]\n"
     ]
    },
    {
     "name": "stdout",
     "output_type": "stream",
     "text": [
      "Excel file 'output_X7 final baru.xlsx' created successfully.\n"
     ]
    }
   ],
   "source": [
    "grand_list = []\n",
    "for i in tqdm(range(1,101)):\n",
    "  row = gcm.arrow_strength(causal_model, 'X7')\n",
    "  grand_list.append(row)\n",
    "\n",
    "# Convert the list of dictionaries to a pandas DataFrame\n",
    "df = pd.DataFrame(grand_list)\n",
    "\n",
    "# Write the DataFrame to an Excel file\n",
    "output_path = 'output_X7 final baru.xlsx'\n",
    "df.to_excel(output_path, index=False)\n",
    "\n",
    "print(f\"Excel file '{output_path}' created successfully.\")"
   ]
  }
 ],
 "metadata": {
  "kernelspec": {
   "display_name": ".venv",
   "language": "python",
   "name": "python3"
  },
  "language_info": {
   "codemirror_mode": {
    "name": "ipython",
    "version": 3
   },
   "file_extension": ".py",
   "mimetype": "text/x-python",
   "name": "python",
   "nbconvert_exporter": "python",
   "pygments_lexer": "ipython3",
   "version": "3.10.11"
  }
 },
 "nbformat": 4,
 "nbformat_minor": 2
}
